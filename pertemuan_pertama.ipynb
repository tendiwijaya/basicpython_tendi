{
 "cells": [
  {
   "cell_type": "code",
   "execution_count": 1,
   "metadata": {},
   "outputs": [
    {
     "name": "stdout",
     "output_type": "stream",
     "text": [
      "Hello World\n"
     ]
    }
   ],
   "source": [
    "# First Program\n",
    "print(\"Hello World\")"
   ]
  },
  {
   "cell_type": "code",
   "execution_count": 2,
   "metadata": {},
   "outputs": [],
   "source": [
    "# Komentar di Python"
   ]
  },
  {
   "cell_type": "code",
   "execution_count": 16,
   "metadata": {},
   "outputs": [
    {
     "name": "stdout",
     "output_type": "stream",
     "text": [
      "Selamat Pagi,Selamat Siang,Selamat Siang\n"
     ]
    }
   ],
   "source": [
    "#Variabel\n",
    "sapa = \"Selamat Pagi\"\n",
    "sapa1 = \"Selamat Siang\"\n",
    "sapa_dua = \"Selamat Siang\"\n",
    "print(sapa, sapa1, sapa_dua, sep=',')"
   ]
  },
  {
   "cell_type": "code",
   "execution_count": 18,
   "metadata": {},
   "outputs": [
    {
     "name": "stdout",
     "output_type": "stream",
     "text": [
      "Ayok belajar AI\n",
      "<class 'str'>\n"
     ]
    }
   ],
   "source": [
    "# Data Types\n",
    "var_string = \"Ayok belajar AI\"\n",
    "print(var_string)\n",
    "print(type(var_string))"
   ]
  },
  {
   "cell_type": "code",
   "execution_count": 27,
   "metadata": {},
   "outputs": [
    {
     "name": "stdout",
     "output_type": "stream",
     "text": [
      "99\n",
      "<class 'int'>\n"
     ]
    }
   ],
   "source": [
    "var_integer = 99\n",
    "print(var_integer)\n",
    "print(type(var_integer))"
   ]
  },
  {
   "cell_type": "code",
   "execution_count": 21,
   "metadata": {},
   "outputs": [
    {
     "name": "stdout",
     "output_type": "stream",
     "text": [
      "10.7\n",
      "<class 'int'>\n"
     ]
    }
   ],
   "source": [
    "var_float = 10.7\n",
    "print(var_float)\n",
    "print(type(var_integer))"
   ]
  },
  {
   "cell_type": "code",
   "execution_count": 26,
   "metadata": {},
   "outputs": [
    {
     "name": "stdout",
     "output_type": "stream",
     "text": [
      "Ayok belajar AI,99,10.7\n"
     ]
    }
   ],
   "source": [
    "print(var_string, var_integer, var_float, sep=',')"
   ]
  },
  {
   "cell_type": "code",
   "execution_count": 31,
   "metadata": {},
   "outputs": [
    {
     "name": "stdout",
     "output_type": "stream",
     "text": [
      "Nilainya True\n",
      "<class 'bool'>\n"
     ]
    }
   ],
   "source": [
    "var_boolean = True\n",
    "if var_boolean:\n",
    "    print(\"Nilainya True\")\n",
    "print(type(var_boolean))"
   ]
  },
  {
   "cell_type": "code",
   "execution_count": 32,
   "metadata": {},
   "outputs": [
    {
     "name": "stdout",
     "output_type": "stream",
     "text": [
      "100\n"
     ]
    }
   ],
   "source": [
    "# Math Operation\n",
    "tambah = 1 + 99\n",
    "print(tambah)"
   ]
  },
  {
   "cell_type": "code",
   "execution_count": 37,
   "metadata": {},
   "outputs": [
    {
     "name": "stdout",
     "output_type": "stream",
     "text": [
      "Halo World\n"
     ]
    }
   ],
   "source": [
    "var1 = \"Halo\"\n",
    "var2 = \"World\"\n",
    "# var3 = var1 + var2\n",
    "print(var1 + \" \" + var2)"
   ]
  },
  {
   "cell_type": "code",
   "execution_count": 38,
   "metadata": {},
   "outputs": [
    {
     "name": "stdout",
     "output_type": "stream",
     "text": [
      "22\n"
     ]
    }
   ],
   "source": [
    "kurang1 = 99\n",
    "kurang2 = 77\n",
    "kurang3 = kurang1 - kurang2\n",
    "print(kurang3)"
   ]
  },
  {
   "cell_type": "code",
   "execution_count": 43,
   "metadata": {},
   "outputs": [
    {
     "name": "stdout",
     "output_type": "stream",
     "text": [
      "3640\n"
     ]
    }
   ],
   "source": [
    "kali1 = 56\n",
    "kali2 = 65\n",
    "kali3 = kali1 * kali2\n",
    "print(kali3)"
   ]
  },
  {
   "cell_type": "code",
   "execution_count": null,
   "metadata": {},
   "outputs": [],
   "source": []
  },
  {
   "cell_type": "code",
   "execution_count": 45,
   "metadata": {},
   "outputs": [
    {
     "name": "stdout",
     "output_type": "stream",
     "text": [
      "16\n"
     ]
    }
   ],
   "source": [
    "bagi1 = 50\n",
    "bagi2 = 3\n",
    "bagi3 = bagi1 / bagi2\n",
    "print(int(bagi3))"
   ]
  },
  {
   "cell_type": "code",
   "execution_count": 47,
   "metadata": {},
   "outputs": [],
   "source": [
    "modul1 = 10\n",
    "modul2 = 2\n",
    "modul3 = modul1 % modul2"
   ]
  },
  {
   "cell_type": "code",
   "execution_count": 48,
   "metadata": {},
   "outputs": [
    {
     "name": "stdout",
     "output_type": "stream",
     "text": [
      "Benar\n"
     ]
    }
   ],
   "source": [
    "if (modul1 % 2 == 0):\n",
    "    print(\"Benar\")"
   ]
  },
  {
   "cell_type": "code",
   "execution_count": 49,
   "metadata": {},
   "outputs": [
    {
     "name": "stdout",
     "output_type": "stream",
     "text": [
      "3318462988691948907650286963263936624986304603548631220018837549610370323146990243798546901044939902470099862517164959369\n"
     ]
    }
   ],
   "source": [
    "expo = 67\n",
    "expo1 = 66\n",
    "expo3 = expo ** expo1\n",
    "print(expo3)"
   ]
  },
  {
   "cell_type": "code",
   "execution_count": 62,
   "metadata": {},
   "outputs": [
    {
     "name": "stdout",
     "output_type": "stream",
     "text": [
      "16\n"
     ]
    }
   ],
   "source": [
    "int_div = 50 // 3\n",
    "print(int_div)"
   ]
  },
  {
   "cell_type": "code",
   "execution_count": 64,
   "metadata": {},
   "outputs": [
    {
     "name": "stdout",
     "output_type": "stream",
     "text": [
      "(1+3j)\n",
      "<class 'complex'>\n"
     ]
    }
   ],
   "source": [
    "comp = 1+3j\n",
    "print(comp)\n",
    "print(type(comp))"
   ]
  },
  {
   "cell_type": "code",
   "execution_count": null,
   "metadata": {},
   "outputs": [],
   "source": []
  },
  {
   "cell_type": "code",
   "execution_count": null,
   "metadata": {},
   "outputs": [],
   "source": []
  },
  {
   "cell_type": "code",
   "execution_count": null,
   "metadata": {},
   "outputs": [],
   "source": [
    "# Operator Penugasan\n",
    "satu = \"Halo\""
   ]
  },
  {
   "cell_type": "code",
   "execution_count": 54,
   "metadata": {},
   "outputs": [
    {
     "name": "stdout",
     "output_type": "stream",
     "text": [
      "6\n"
     ]
    }
   ],
   "source": [
    "angka = 3\n",
    "angka += 3\n",
    "print(angka)"
   ]
  },
  {
   "cell_type": "code",
   "execution_count": 56,
   "metadata": {},
   "outputs": [
    {
     "name": "stdout",
     "output_type": "stream",
     "text": [
      "6\n"
     ]
    }
   ],
   "source": [
    "angka = 4\n",
    "angka = 5\n",
    "angka = 6\n",
    "print(angka)"
   ]
  },
  {
   "cell_type": "code",
   "execution_count": 61,
   "metadata": {},
   "outputs": [
    {
     "name": "stdout",
     "output_type": "stream",
     "text": [
      "Learning Machine\n",
      "Learning Machine\n"
     ]
    }
   ],
   "source": [
    "local = \"Machine Learning\"\n",
    "def Scope():\n",
    "    global local\n",
    "    local = \"Learning Machine\"\n",
    "    print(local)\n",
    "Scope()\n",
    "print(local)\n",
    "\n",
    "for i in range(1,10):\n",
    "    print(i)\n",
    "    def fungsi():\n",
    "        print(x)\n",
    "        def fingsi2():"
   ]
  },
  {
   "cell_type": "code",
   "execution_count": 65,
   "metadata": {},
   "outputs": [
    {
     "name": "stdout",
     "output_type": "stream",
     "text": [
      "Nilainya False\n"
     ]
    }
   ],
   "source": [
    "fal_se = 0\n",
    "if fal_se:\n",
    "    print(\"Nilainya True\")\n",
    "else:\n",
    "    print(\"Nilainya False\")"
   ]
  },
  {
   "cell_type": "markdown",
   "metadata": {},
   "source": [
    "## Operator Perbandingan\n"
   ]
  },
  {
   "cell_type": "code",
   "execution_count": 66,
   "metadata": {},
   "outputs": [
    {
     "name": "stdout",
     "output_type": "stream",
     "text": [
      "5 Kecil dari 6\n"
     ]
    }
   ],
   "source": [
    "if 5 < 6:\n",
    "    print(\"5 Kecil dari 6\")"
   ]
  },
  {
   "cell_type": "code",
   "execution_count": 67,
   "metadata": {},
   "outputs": [
    {
     "name": "stdout",
     "output_type": "stream",
     "text": [
      "Tidak sama\n"
     ]
    }
   ],
   "source": [
    "num = 5\n",
    "num2 = 7\n",
    "if num == num2:\n",
    "    print(\"Sama ya?\")\n",
    "else:\n",
    "    print(\"Tidak sama\")"
   ]
  },
  {
   "cell_type": "code",
   "execution_count": 68,
   "metadata": {},
   "outputs": [
    {
     "name": "stdout",
     "output_type": "stream",
     "text": [
      "Ngga sama\n"
     ]
    }
   ],
   "source": [
    "if 7 != 8:\n",
    "    print(\"Ngga sama\")"
   ]
  },
  {
   "cell_type": "markdown",
   "metadata": {},
   "source": [
    "## Operasi String "
   ]
  },
  {
   "cell_type": "code",
   "execution_count": 74,
   "metadata": {},
   "outputs": [
    {
     "name": "stdout",
     "output_type": "stream",
     "text": [
      "Halo\n"
     ]
    }
   ],
   "source": [
    "greeting = \" Halo \"\n",
    "print(greeting.strip())\n",
    "greeting2 = \"hai\""
   ]
  },
  {
   "cell_type": "code",
   "execution_count": 76,
   "metadata": {},
   "outputs": [
    {
     "name": "stdout",
     "output_type": "stream",
     "text": [
      "HAI\n"
     ]
    }
   ],
   "source": [
    "print(greeting2.upper())"
   ]
  },
  {
   "cell_type": "code",
   "execution_count": 78,
   "metadata": {},
   "outputs": [
    {
     "name": "stdout",
     "output_type": "stream",
     "text": [
      "Ayo belajar AI\n",
      "Ayo belajar Artificial Intellegence\n"
     ]
    }
   ],
   "source": [
    "taglile = \"Ayo belajar AI\"\n",
    "print(taglile)\n",
    "print(taglile.replace(\"AI\", \"Artificial Intellegence\"))"
   ]
  },
  {
   "cell_type": "code",
   "execution_count": null,
   "metadata": {},
   "outputs": [],
   "source": []
  },
  {
   "cell_type": "code",
   "execution_count": null,
   "metadata": {},
   "outputs": [],
   "source": []
  },
  {
   "cell_type": "code",
   "execution_count": null,
   "metadata": {},
   "outputs": [],
   "source": []
  },
  {
   "cell_type": "code",
   "execution_count": null,
   "metadata": {},
   "outputs": [],
   "source": []
  },
  {
   "cell_type": "code",
   "execution_count": null,
   "metadata": {},
   "outputs": [],
   "source": []
  },
  {
   "cell_type": "code",
   "execution_count": null,
   "metadata": {},
   "outputs": [],
   "source": []
  },
  {
   "cell_type": "code",
   "execution_count": null,
   "metadata": {},
   "outputs": [],
   "source": []
  },
  {
   "cell_type": "code",
   "execution_count": null,
   "metadata": {},
   "outputs": [],
   "source": []
  },
  {
   "cell_type": "code",
   "execution_count": null,
   "metadata": {},
   "outputs": [],
   "source": []
  },
  {
   "cell_type": "code",
   "execution_count": null,
   "metadata": {},
   "outputs": [],
   "source": []
  },
  {
   "cell_type": "code",
   "execution_count": null,
   "metadata": {},
   "outputs": [],
   "source": []
  }
 ],
 "metadata": {
  "kernelspec": {
   "display_name": "Python 3",
   "language": "python",
   "name": "python3"
  },
  "language_info": {
   "codemirror_mode": {
    "name": "ipython",
    "version": 3
   },
   "file_extension": ".py",
   "mimetype": "text/x-python",
   "name": "python",
   "nbconvert_exporter": "python",
   "pygments_lexer": "ipython3",
   "version": "3.9.1"
  }
 },
 "nbformat": 4,
 "nbformat_minor": 2
}
