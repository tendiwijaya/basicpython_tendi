{
 "cells": [
  {
   "cell_type": "code",
   "execution_count": null,
   "metadata": {},
   "outputs": [
    {
     "name": "stdout",
     "output_type": "stream",
     "text": [
      "Selamat datang! \n",
      "\n",
      " --- Menu --- \n",
      " \n",
      " 1. Daftar Kontak \n",
      " 2. Tambah Kontak \n",
      " 3. Keluar\n"
     ]
    }
   ],
   "source": [
    "def mainMenu():\n",
    "print(\"Selamat datang! \\n\\n --- Menu --- \\n \\n 1. Daftar Kontak \\n 2. Tambah Kontak \\n 3. Keluar\")\n",
    "\n",
    "selection=int(input(\"Pilih menu: \"))\n",
    "if selection==1:\n",
    "    print(\"Menu 1\")\n",
    "elif selection==2:\n",
    "    print(\"Menu 2\")\n",
    "elif selection==3:\n",
    "    print(\"Menu 3\")\n",
    "else:\n",
    "    print(\"Invalid Choice\")\n",
    "mainMenu()\n",
    " "
   ]
  },
  {
   "cell_type": "code",
   "execution_count": 4,
   "metadata": {},
   "outputs": [
    {
     "name": "stdout",
     "output_type": "stream",
     "text": [
      "Pilih menu:1\n"
     ]
    }
   ],
   "source": [
    "listmenu = input(\"Pilih menu:\")"
   ]
  },
  {
   "cell_type": "code",
   "execution_count": null,
   "metadata": {},
   "outputs": [],
   "source": []
  }
 ],
 "metadata": {
  "kernelspec": {
   "display_name": "Python 3",
   "language": "python",
   "name": "python3"
  },
  "language_info": {
   "codemirror_mode": {
    "name": "ipython",
    "version": 3
   },
   "file_extension": ".py",
   "mimetype": "text/x-python",
   "name": "python",
   "nbconvert_exporter": "python",
   "pygments_lexer": "ipython3",
   "version": "3.9.1"
  }
 },
 "nbformat": 4,
 "nbformat_minor": 4
}
