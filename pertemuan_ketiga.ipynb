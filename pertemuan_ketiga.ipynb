{
 "cells": [
  {
   "cell_type": "code",
   "execution_count": 1,
   "metadata": {},
   "outputs": [
    {
     "name": "stdout",
     "output_type": "stream",
     "text": [
      "Masukan password: sdfdf\n",
      "Masukan password: fdfd\n",
      "Masukan password: dfd\n",
      "Masukan password: dfdf\n",
      "Masukan password: dfd\n",
      "call police ...\n"
     ]
    }
   ],
   "source": [
    "password = \"r4h4s1123\"\n",
    "pw_input = \"\"\n",
    "auth = False\n",
    "count = 0\n",
    "maxfalse = 5\n",
    "\n",
    "while pw_input != password:\n",
    "    count +=1\n",
    "    if count > maxfalse: \n",
    "        auth = False\n",
    "        break\n",
    "    pw_input = input(\"Masukan password: \")\n",
    "    \n",
    "if auth:\n",
    "    print(\"authorized\")\n",
    "else:\n",
    "    print(\"call police ...\")\n",
    "    "
   ]
  },
  {
   "cell_type": "code",
   "execution_count": 14,
   "metadata": {},
   "outputs": [
    {
     "name": "stdout",
     "output_type": "stream",
     "text": [
      "0-1-2-3-5-7-11-13-17-19-23-29-31-37-41-43-47-53-59-61-67-71-73-79-83-89-97-"
     ]
    }
   ],
   "source": [
    "def prima(n):\n",
    "    for x in range(2,n):\n",
    "        if n % x == 0:\n",
    "            return False\n",
    "    return True\n",
    "\n",
    "def daftar_prima():\n",
    "    for n in range (100):\n",
    "        if prima(n):\n",
    "            print(n, end=\"-\")\n",
    "\n",
    "daftar_prima()"
   ]
  },
  {
   "cell_type": "code",
   "execution_count": 18,
   "metadata": {},
   "outputs": [
    {
     "name": "stdout",
     "output_type": "stream",
     "text": [
      "Saya tadi pagi makan Kentang\n",
      "Saya tadi siang makan Rendang\n",
      "Saya tadi sore makan Sup\n"
     ]
    }
   ],
   "source": [
    "def main():\n",
    "  x = dict(pagi = \"Kentang\", siang = \"Rendang\", sore = \"Sup\")\n",
    "  for index, value in x.items():\n",
    "    print(f\"Saya tadi {index} makan {value}\")\n",
    "    \n",
    "main()"
   ]
  },
  {
   "cell_type": "code",
   "execution_count": null,
   "metadata": {},
   "outputs": [],
   "source": []
  },
  {
   "cell_type": "code",
   "execution_count": null,
   "metadata": {},
   "outputs": [],
   "source": []
  },
  {
   "cell_type": "code",
   "execution_count": null,
   "metadata": {},
   "outputs": [],
   "source": []
  },
  {
   "cell_type": "code",
   "execution_count": null,
   "metadata": {},
   "outputs": [],
   "source": []
  },
  {
   "cell_type": "code",
   "execution_count": null,
   "metadata": {},
   "outputs": [],
   "source": []
  },
  {
   "cell_type": "code",
   "execution_count": null,
   "metadata": {},
   "outputs": [],
   "source": []
  },
  {
   "cell_type": "code",
   "execution_count": null,
   "metadata": {},
   "outputs": [],
   "source": []
  }
 ],
 "metadata": {
  "kernelspec": {
   "display_name": "Python 3",
   "language": "python",
   "name": "python3"
  },
  "language_info": {
   "codemirror_mode": {
    "name": "ipython",
    "version": 3
   },
   "file_extension": ".py",
   "mimetype": "text/x-python",
   "name": "python",
   "nbconvert_exporter": "python",
   "pygments_lexer": "ipython3",
   "version": "3.9.1"
  }
 },
 "nbformat": 4,
 "nbformat_minor": 4
}
